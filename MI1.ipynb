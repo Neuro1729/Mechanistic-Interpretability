{
  "nbformat": 4,
  "nbformat_minor": 0,
  "metadata": {
    "colab": {
      "provenance": [],
      "gpuType": "T4",
      "authorship_tag": "ABX9TyOql3lXO/1682/OE1jdyhgc",
      "include_colab_link": true
    },
    "kernelspec": {
      "name": "python3",
      "display_name": "Python 3"
    },
    "language_info": {
      "name": "python"
    },
    "accelerator": "GPU"
  },
  "cells": [
    {
      "cell_type": "markdown",
      "metadata": {
        "id": "view-in-github",
        "colab_type": "text"
      },
      "source": [
        "<a href=\"https://colab.research.google.com/github/Neuro1729/Mechanistic-Interpretability/blob/main/MI1.ipynb\" target=\"_parent\"><img src=\"https://colab.research.google.com/assets/colab-badge.svg\" alt=\"Open In Colab\"/></a>"
      ]
    },
    {
      "cell_type": "code",
      "execution_count": 1,
      "metadata": {
        "colab": {
          "base_uri": "https://localhost:8080/",
          "height": 574,
          "referenced_widgets": [
            "6fbb0891534a4e879d7b2891f927d478",
            "a181491738a747939ae9415da92fc6e0",
            "78898bb0025e4ef18af068eff98a7922",
            "f5480696d1e24d4e8b7862fc561bd3bb",
            "69bc50b24a744fc28ebc84c08c91b872",
            "5f1427afd64b400a8168832376694ced",
            "b53dd04ae5b84097a0a53e5ab51085c1",
            "ed10127c4f4240e494e34a241fcdca47",
            "19c7ac378f6443f9830eeb362065884a",
            "06a33ebc21a5482c8aba5923558377a6",
            "824e7f970c6641e286c5a26d9bfc0898",
            "35d17114b79d4e3aba2e3745bec028b0",
            "e805365eba1a445db8e61523a0e11af0",
            "82ce891d0b004d9687462f2bac26f1f4",
            "a607b388da8046f9b9bd80f7acbac980",
            "58ee7068356a4412a779f106d5552da6",
            "d2d2f85bd6de499db3a008aeea273b48",
            "56d2898a96a546f997e6b3762449ef80",
            "a0896e2613e84fbe90ee60468c90ba48",
            "302bb18a2f9347449b087590c32215bd",
            "a0755296640e4fc2bdadd85b56f3da53",
            "0794ae150bdb4a1992a93cc3a6358be6",
            "bf6b046f4f5d427c84723b3123f4dcc3",
            "de8637c9514c444b9425209f5ea1a140",
            "7276766d4cf144d39644fc5b2ff073ed",
            "771935a4cec24f2f86db9ad0745a684f",
            "5698011400c04c68adb11adc4f392fb5",
            "6aa9d1a4d22649b9977dd3d3e997b4fe",
            "86ad6b2ab0ed4a97936f53c8a910a301",
            "c02198563bb0446b98175132110fcf04",
            "db9cdf46933845f9945d5716d7418aca",
            "11a21db4e9f64da9a6e28c3413a380a7",
            "d41b85e6a40d4c9f89c37602cdfd673d",
            "fcbc1ffe5e5c4bc2956e3a20953a2f83",
            "ca44ec6c7bfc4c07a8c8b2e7d115e90c",
            "adc477b0342a4fee80e16ce460dc6d0b",
            "592df18f0a704d0f97adf169efea4fe6",
            "21bddeb27f784e0baeb1ae63508cc07e",
            "891d7cf63f2046ed9e2fc7dbb752781e",
            "8f0bc79d69014f16a71279ab2eadc88b",
            "8e5401194bb74a0aba74ccdbbe23c9f1",
            "524208270f3c43af94eaa862bd947c17",
            "ff57873c06fe4f9e82119f3a282f5d3b",
            "4a51b1b67a34442d9a2f9f652955d6c3",
            "8968d55409034cc2a69a1def48abb584",
            "49891882efa145aa9bd14d05a0577a08",
            "70b1f88269914e85949fef840f0ed35a",
            "c179a85d664c48cba5a70135eff45469",
            "29ee17dde3d3458aa8125742b5f23056",
            "1bb8591bf1d54139a115b3dcdb35cbf4",
            "ba071001750c428e8bcb8e13839faf93",
            "17e24e6815404f15b30e347a906a02db",
            "476c81e53ed14efd89030ec30400f176",
            "3ab004fd48944887b235fc5bd4a13eb9",
            "e3629342fdd743589ac16af0841dfc22",
            "ea45917e5a224e34963540c4de3669c8",
            "f94409e1215f48ec96ea5205d35e9a11",
            "959701b4083249ec9b019b36d9f70cb5",
            "2a466a3ea73946b28e02a8644b822112",
            "12531ec253714e58be1628425cffa300",
            "9489ecade38b4b19854abaf7339a11cb",
            "61eb0ea30a3141f198ab1eff5365d322",
            "6a7df5a063b04c9ea577b639c970ae95",
            "87418e069ec8429ebb0f012b718b4922",
            "89b7dc9e4e324b73bc72bd5278164b1f",
            "f9d7a5996d884c818d61583c39b4751d",
            "52d53b799c7048558cb621d7e2570e6b",
            "447c7b6c6f314ed7beab7a0c7d031c1e",
            "625d13d98b30493cac503adc5fdaab8d",
            "53db1505e20e4b72be896a34782759b3",
            "cfab68304adc44f18e81652b6be435d4",
            "8205b8ec4ed0420d8726656126995253",
            "526ad317a5254c3aa04584f1442005ea",
            "3df66512889c48dcba7212e9eb766439",
            "b60886f2af7a4e3a9be0cac85b33cc8b",
            "9a7ade5d693541b4aa599309b4a317b1",
            "ac3a3ee63bda4422b158d77220622508",
            "b1b5263a07614a6ca3b863498390169b",
            "ae9577b8caa64b06957b689a04442291",
            "9a5d6ce6960f4ad28bb54532c07d0f00",
            "afcffe73ad3d4f5cb7d9bc4c6d942823",
            "1271518e869e416f9eeb034b1fe87afb",
            "679430eeb8fc47c08a313512e1ef156d",
            "48069bf2a97341c7872cb3a5cd9db21c",
            "0e50dd1a6a444cbb97765148988a5bd4",
            "6d5f663babaa4b9090e4558d21638eb1",
            "24fae6fc905d4ecc95e99b5468e89d59",
            "0586de484b9c453b81952b6ad98ee733",
            "b92dae5657a949389ac0fc9746d1eb21",
            "1d5d6218dbee4b159c2d327a4b36b777",
            "dd53b075ba344a459422be6ab08ce58b",
            "99158505c2a34b94a77ae3c1308e6df1",
            "180da2f4aa7246ddbad797b0a51b3d98",
            "14143b549b3e44f080e3254869f41a85",
            "be12664a6f8a47f2ac3492265a4246f9",
            "a408ce8d1a8f4b808ce16d6c699d3708",
            "738d47263ba045d99b53d44918b31efb",
            "ee696e997ded4b11aefa57f576c75542",
            "bfb4c29ff94247bda0cfcbcbd67a8767",
            "29df3bb8946342f1aa1237c57059ef0f",
            "442e09dbf8ad46e1b376e9b6144afa33",
            "a765340e996f40b7b8480b8012e9315f",
            "018174a396c042e9a16653a3ec9bed6d",
            "185e0669e9654adc8df7cdd02b34e4c4",
            "f70d4b1ae8c5454aa1e11f75d709a2b0",
            "4bd23263775f4918a9fb8671aeafac02",
            "45b9a18db07f46edbba675461838da6a",
            "bb87a01c87d4462bb8bca7c03326351c",
            "cfcaec2631654a56a1557ebcdb320d3a",
            "fdead4314fed4e87bb1d5a724e819926",
            "1120eb1836ed4297b57261c422ef0894",
            "20902ced7fcc459986cea01d1ea39e37",
            "34ab0e350a62434d878de6d0127aec52",
            "dfce9250f90c479887b9510e852d6aab",
            "f4c97cef5d6041198c422c7c5ebf956b",
            "c778e9ed33464f9babeed178f200add3",
            "4c740ebb016f4893a92e30f5fdc47b6c",
            "d1ac4193ee6e4875b2aa19d82ae0065d",
            "9240a77379614e52ace936348b09c6dd",
            "df86852a921748bbb439e5709c00047c",
            "abdc4ad23de946f7acf53a4d27fb7161",
            "3884e1e45b8249c6ba5b176749badce0",
            "ec853b25d1e54416be7e68d9d54f238e",
            "30b2605e96d74b15ae8705dd250e7c23",
            "cc6a5dfaa40c4d8285700c1d8237aa46",
            "13adc6d75b7a490abac4302a1c86c623",
            "22a9d22fa73e4e638e61bfb92f9f57b9",
            "0b2dbe248f0d48e39d0f73796be8553e",
            "21551c7cc5e54ac7bb329b8acf68f04d",
            "5478fc79209a42e9998fba21dbb6ebad",
            "695c7b8a860b404bba0881f2388ab877",
            "dafbab492e8448d4ab8ef5981f0e39a0",
            "c4af3243b7b843f18b0d9f7865b1e2ea",
            "e6d1d3023a904f7cb2b5d543dee24ded",
            "b360c87b2d8f403cbbc32cc302ede9a8",
            "85bf125e6efd4e8fb8372a53664ea1fe",
            "fda86c3f94654cdc89cd3fc6e609070d",
            "31ed1836c6f44d97997d5011274742f5",
            "6e832edb87e648a6b103db2fcbb03cf9",
            "04db5ffdb0334a24afc84f913e07c659",
            "d4af4e1e372a4edcb418b3c27ee03247",
            "b3f44b9f106e46219491ace902fdb715",
            "8b3d1e0ff01e461eb367255098f0f04f"
          ]
        },
        "id": "DSg7UxYUmyV6",
        "outputId": "e79d22ef-f19d-427d-893a-eb07649ed2fa"
      },
      "outputs": [
        {
          "output_type": "stream",
          "name": "stderr",
          "text": [
            "/usr/local/lib/python3.12/dist-packages/huggingface_hub/utils/_auth.py:94: UserWarning: \n",
            "The secret `HF_TOKEN` does not exist in your Colab secrets.\n",
            "To authenticate with the Hugging Face Hub, create a token in your settings tab (https://huggingface.co/settings/tokens), set it as secret in your Google Colab and restart your session.\n",
            "You will be able to reuse this secret in all of your notebooks.\n",
            "Please note that authentication is recommended but still optional to access public models or datasets.\n",
            "  warnings.warn(\n"
          ]
        },
        {
          "output_type": "display_data",
          "data": {
            "text/plain": [
              "tokenizer_config.json: 0.00B [00:00, ?B/s]"
            ],
            "application/vnd.jupyter.widget-view+json": {
              "version_major": 2,
              "version_minor": 0,
              "model_id": "6fbb0891534a4e879d7b2891f927d478"
            }
          },
          "metadata": {}
        },
        {
          "output_type": "display_data",
          "data": {
            "text/plain": [
              "vocab.json: 0.00B [00:00, ?B/s]"
            ],
            "application/vnd.jupyter.widget-view+json": {
              "version_major": 2,
              "version_minor": 0,
              "model_id": "35d17114b79d4e3aba2e3745bec028b0"
            }
          },
          "metadata": {}
        },
        {
          "output_type": "display_data",
          "data": {
            "text/plain": [
              "merges.txt: 0.00B [00:00, ?B/s]"
            ],
            "application/vnd.jupyter.widget-view+json": {
              "version_major": 2,
              "version_minor": 0,
              "model_id": "bf6b046f4f5d427c84723b3123f4dcc3"
            }
          },
          "metadata": {}
        },
        {
          "output_type": "display_data",
          "data": {
            "text/plain": [
              "tokenizer.json: 0.00B [00:00, ?B/s]"
            ],
            "application/vnd.jupyter.widget-view+json": {
              "version_major": 2,
              "version_minor": 0,
              "model_id": "fcbc1ffe5e5c4bc2956e3a20953a2f83"
            }
          },
          "metadata": {}
        },
        {
          "output_type": "display_data",
          "data": {
            "text/plain": [
              "added_tokens.json: 0.00B [00:00, ?B/s]"
            ],
            "application/vnd.jupyter.widget-view+json": {
              "version_major": 2,
              "version_minor": 0,
              "model_id": "8968d55409034cc2a69a1def48abb584"
            }
          },
          "metadata": {}
        },
        {
          "output_type": "display_data",
          "data": {
            "text/plain": [
              "special_tokens_map.json:   0%|          | 0.00/99.0 [00:00<?, ?B/s]"
            ],
            "application/vnd.jupyter.widget-view+json": {
              "version_major": 2,
              "version_minor": 0,
              "model_id": "ea45917e5a224e34963540c4de3669c8"
            }
          },
          "metadata": {}
        },
        {
          "output_type": "display_data",
          "data": {
            "text/plain": [
              "config.json:   0%|          | 0.00/735 [00:00<?, ?B/s]"
            ],
            "application/vnd.jupyter.widget-view+json": {
              "version_major": 2,
              "version_minor": 0,
              "model_id": "52d53b799c7048558cb621d7e2570e6b"
            }
          },
          "metadata": {}
        },
        {
          "output_type": "stream",
          "name": "stderr",
          "text": [
            "`torch_dtype` is deprecated! Use `dtype` instead!\n"
          ]
        },
        {
          "output_type": "display_data",
          "data": {
            "text/plain": [
              "model.safetensors.index.json: 0.00B [00:00, ?B/s]"
            ],
            "application/vnd.jupyter.widget-view+json": {
              "version_major": 2,
              "version_minor": 0,
              "model_id": "b1b5263a07614a6ca3b863498390169b"
            }
          },
          "metadata": {}
        },
        {
          "output_type": "display_data",
          "data": {
            "text/plain": [
              "Fetching 2 files:   0%|          | 0/2 [00:00<?, ?it/s]"
            ],
            "application/vnd.jupyter.widget-view+json": {
              "version_major": 2,
              "version_minor": 0,
              "model_id": "b92dae5657a949389ac0fc9746d1eb21"
            }
          },
          "metadata": {}
        },
        {
          "output_type": "display_data",
          "data": {
            "text/plain": [
              "model-00002-of-00002.safetensors:   0%|          | 0.00/564M [00:00<?, ?B/s]"
            ],
            "application/vnd.jupyter.widget-view+json": {
              "version_major": 2,
              "version_minor": 0,
              "model_id": "29df3bb8946342f1aa1237c57059ef0f"
            }
          },
          "metadata": {}
        },
        {
          "output_type": "display_data",
          "data": {
            "text/plain": [
              "model-00001-of-00002.safetensors:   0%|          | 0.00/5.00G [00:00<?, ?B/s]"
            ],
            "application/vnd.jupyter.widget-view+json": {
              "version_major": 2,
              "version_minor": 0,
              "model_id": "1120eb1836ed4297b57261c422ef0894"
            }
          },
          "metadata": {}
        },
        {
          "output_type": "display_data",
          "data": {
            "text/plain": [
              "Loading checkpoint shards:   0%|          | 0/2 [00:00<?, ?it/s]"
            ],
            "application/vnd.jupyter.widget-view+json": {
              "version_major": 2,
              "version_minor": 0,
              "model_id": "3884e1e45b8249c6ba5b176749badce0"
            }
          },
          "metadata": {}
        },
        {
          "output_type": "display_data",
          "data": {
            "text/plain": [
              "generation_config.json:   0%|          | 0.00/124 [00:00<?, ?B/s]"
            ],
            "application/vnd.jupyter.widget-view+json": {
              "version_major": 2,
              "version_minor": 0,
              "model_id": "c4af3243b7b843f18b0d9f7865b1e2ea"
            }
          },
          "metadata": {}
        }
      ],
      "source": [
        "from transformers import AutoModelForCausalLM, AutoTokenizer\n",
        "import torch\n",
        "\n",
        "# Model name on Hugging Face Hub\n",
        "model_name = \"microsoft/phi-2\"\n",
        "\n",
        "# Load tokenizer and model\n",
        "tokenizer = AutoTokenizer.from_pretrained(model_name)\n",
        "model = AutoModelForCausalLM.from_pretrained(\n",
        "    model_name,\n",
        "    torch_dtype=torch.float16,   # use float16 to save memory\n",
        "    device_map=\"auto\"            # automatically put layers on available GPU\n",
        ")\n"
      ]
    },
    {
      "cell_type": "code",
      "source": [
        "prompt = \"Describe how the concept of refraction is used in the design of eyeglasses.\"\n",
        "\n",
        "inputs = tokenizer(prompt, return_tensors=\"pt\").to(model.device)\n",
        "\n",
        "# Generate\n",
        "outputs = model.generate(\n",
        "    **inputs,\n",
        "    max_new_tokens=200,\n",
        "    temperature=0.7,\n",
        "    top_p=0.9\n",
        ")\n",
        "\n",
        "print(tokenizer.decode(outputs[0], skip_special_tokens=True))\n"
      ],
      "metadata": {
        "colab": {
          "base_uri": "https://localhost:8080/"
        },
        "id": "1YrEhbXNqj8l",
        "outputId": "4e034309-7ed2-4316-e472-8e47ba9c3116"
      },
      "execution_count": 7,
      "outputs": [
        {
          "output_type": "stream",
          "name": "stderr",
          "text": [
            "Setting `pad_token_id` to `eos_token_id`:50256 for open-end generation.\n"
          ]
        },
        {
          "output_type": "stream",
          "name": "stdout",
          "text": [
            "Describe how the concept of refraction is used in the design of eyeglasses.\n",
            "\n",
            "Solution:\n",
            "The concept of refraction is used in the design of eyeglasses to correct vision problems. Eyeglasses consist of lenses that refract light in a way that compensates for the specific refractive errors of the wearer's eyes.\n",
            "\n",
            "For individuals with nearsightedness (myopia), the lenses in eyeglasses are concave. This shape causes light rays to diverge before they enter the eye, allowing them to focus properly on the retina. By refracting light in this way, eyeglasses help to correct the blurred vision associated with myopia.\n",
            "\n",
            "On the other hand, individuals with farsightedness (hyperopia) have difficulty focusing on nearby objects. The lenses in eyeglasses for farsightedness are convex. This shape causes light rays to converge before they enter the eye, allowing them to focus properly on the retina. By refracting light in this way, eyeglasses help to correct the blurred\n"
          ]
        }
      ]
    },
    {
      "cell_type": "code",
      "source": [
        "import random\n",
        "\n",
        "\n",
        "# ---- Step 1: Define a forward hook to zero out random neurons ----\n",
        "ablated_neurons = {}  # store which neurons are ablated per layer\n",
        "\n",
        "def ablate_neurons(layer_name, x):\n",
        "    # x: [batch, seq_len, hidden_dim]\n",
        "    batch, seq_len, hidden_dim = x.shape\n",
        "    n_ablated = int(0.1 * hidden_dim)  # 10%\n",
        "\n",
        "    # Pick neurons randomly for this layer if not already picked\n",
        "    if layer_name not in ablated_neurons:\n",
        "        ablated_neurons[layer_name] = random.sample(range(hidden_dim), n_ablated)\n",
        "\n",
        "    x_clone = x.clone()\n",
        "    x_clone[:, :, ablated_neurons[layer_name]] = 0\n",
        "    return x_clone\n",
        "\n",
        "# ---- Step 2: Register hooks for MLP outputs in all layers ----\n",
        "hooks = []\n",
        "for i, layer in enumerate(model.model.layers):\n",
        "    def get_hook(idx):\n",
        "        return lambda module, input, output: ablate_neurons(f\"layer{idx}\", output)\n",
        "\n",
        "    h = layer.mlp.fc2.register_forward_hook(get_hook(i))\n",
        "    hooks.append(h)\n",
        "\n",
        "# ---- Step 3: Run generation ----\n",
        "prompt = \"Describe how the concept of refraction is used in the design of eyeglasses.\"\n",
        "inputs = tokenizer(prompt, return_tensors=\"pt\").to(model.device)\n",
        "\n",
        "outputs = model.generate(\n",
        "    **inputs,\n",
        "    max_new_tokens=200,\n",
        "    temperature=0.7,\n",
        "    top_p=0.9\n",
        ")\n",
        "\n",
        "print(tokenizer.decode(outputs[0], skip_special_tokens=True))\n",
        "\n",
        "# ---- Step 4: Remove hooks ----\n",
        "for h in hooks:\n",
        "    h.remove()"
      ],
      "metadata": {
        "colab": {
          "base_uri": "https://localhost:8080/"
        },
        "id": "vGVsMa2zCee3",
        "outputId": "21c91570-ab00-40f6-f04c-d831dffecb70"
      },
      "execution_count": 8,
      "outputs": [
        {
          "output_type": "stream",
          "name": "stderr",
          "text": [
            "Setting `pad_token_id` to `eos_token_id`:50256 for open-end generation.\n"
          ]
        },
        {
          "output_type": "stream",
          "name": "stdout",
          "text": [
            "Describe how the concept of refraction is used in the design of eyeglasses.\n",
            "\n",
            "Solution:\n",
            "The concept of refraction is used in the design of eyeglasses to correct vision problems. Eyeglasses have lenses that are specifically shaped to bend light in a way that compensates for the refractive errors in the eye.\n",
            "\n",
            "For example, if a person has nearsightedness (myopia), the light entering the eye focuses in front of the retina instead of directly on it. This causes distant objects to appear blurry. In eyeglasses, the lenses are concave, meaning they are thinner at the center and thicker at the edges. This shape causes the light rays to diverge before entering the eye, allowing them to focus properly on the retina.\n",
            "\n",
            "Similarly, if a person has farsightedness (hyperopia), the light entering the eye focuses behind the retina instead of directly on it. In eyeglasses, the lenses are convex, meaning they are thicker at the center and thinner at the edges. This shape causes the light\n"
          ]
        }
      ]
    },
    {
      "cell_type": "code",
      "source": [
        "import random\n",
        "\n",
        "\n",
        "# ---- Step 1: Define a forward hook to zero out random neurons ----\n",
        "ablated_neurons = {}  # store which neurons are ablated per layer\n",
        "\n",
        "def ablate_neurons(layer_name, x):\n",
        "    # x: [batch, seq_len, hidden_dim]\n",
        "    batch, seq_len, hidden_dim = x.shape\n",
        "    n_ablated = int(0.5 * hidden_dim)  # 10%\n",
        "\n",
        "    # Pick neurons randomly for this layer if not already picked\n",
        "    if layer_name not in ablated_neurons:\n",
        "        ablated_neurons[layer_name] = random.sample(range(hidden_dim), n_ablated)\n",
        "\n",
        "    x_clone = x.clone()\n",
        "    x_clone[:, :, ablated_neurons[layer_name]] = 0\n",
        "    return x_clone\n",
        "\n",
        "# ---- Step 2: Register hooks for MLP outputs in all layers ----\n",
        "hooks = []\n",
        "for i, layer in enumerate(model.model.layers):\n",
        "    def get_hook(idx):\n",
        "        return lambda module, input, output: ablate_neurons(f\"layer{idx}\", output)\n",
        "\n",
        "    h = layer.mlp.fc2.register_forward_hook(get_hook(i))\n",
        "    hooks.append(h)\n",
        "\n",
        "# ---- Step 3: Run generation ----\n",
        "prompt = \"Describe how the concept of refraction is used in the design of eyeglasses.\"\n",
        "inputs = tokenizer(prompt, return_tensors=\"pt\").to(model.device)\n",
        "\n",
        "outputs = model.generate(\n",
        "    **inputs,\n",
        "    max_new_tokens=200,\n",
        "    temperature=0.7,\n",
        "    top_p=0.9\n",
        ")\n",
        "\n",
        "print(tokenizer.decode(outputs[0], skip_special_tokens=True))\n",
        "\n",
        "# ---- Step 4: Remove hooks ----\n",
        "for h in hooks:\n",
        "    h.remove()"
      ],
      "metadata": {
        "colab": {
          "base_uri": "https://localhost:8080/"
        },
        "id": "dZM1plRD8p-b",
        "outputId": "bdfb3f1a-fd08-44f3-bb3b-76c735ca4e53"
      },
      "execution_count": 9,
      "outputs": [
        {
          "output_type": "stream",
          "name": "stderr",
          "text": [
            "Setting `pad_token_id` to `eos_token_id`:50256 for open-end generation.\n"
          ]
        },
        {
          "output_type": "stream",
          "name": "stdout",
          "text": [
            "Describe how the concept of refraction is used in the design of eyeglasses.\n",
            "Solution:\n",
            "The concept of refraction is used in the design of eyeglasses to correct vision problems. When light enters the eye, it is refracted by the lens before it reaches the retina. In a normal eye, the lens refracts the light evenly, allowing the light to reach the retina in a straight path. However, in a person with a vision problem, the lens may refract the light unevenly, causing the light to reach the retina in a curved path. This can result in a blurry or distorted image. By using lenses with different refractive properties, such as lenses with a curved shape or lenses with a flat shape, eyeglasses can redirect the light to refract in a different way, allowing the light to reach the retina in a straight path and correct the vision problem.\n",
            "\n",
            "Follow-up Exercise 3:\n",
            "\n",
            "Explain how the concept of refraction is used in the design of a telescope.\n",
            "Solution:\n",
            "The concept of ref\n"
          ]
        }
      ]
    },
    {
      "cell_type": "code",
      "source": [
        "import random\n",
        "\n",
        "\n",
        "# ---- Step 1: Define a forward hook to zero out random neurons ----\n",
        "ablated_neurons = {}  # store which neurons are ablated per layer\n",
        "\n",
        "def ablate_neurons(layer_name, x):\n",
        "    # x: [batch, seq_len, hidden_dim]\n",
        "    batch, seq_len, hidden_dim = x.shape\n",
        "    n_ablated = int(0.7 * hidden_dim)  # 10%\n",
        "\n",
        "    # Pick neurons randomly for this layer if not already picked\n",
        "    if layer_name not in ablated_neurons:\n",
        "        ablated_neurons[layer_name] = random.sample(range(hidden_dim), n_ablated)\n",
        "\n",
        "    x_clone = x.clone()\n",
        "    x_clone[:, :, ablated_neurons[layer_name]] = 0\n",
        "    return x_clone\n",
        "\n",
        "# ---- Step 2: Register hooks for MLP outputs in all layers ----\n",
        "hooks = []\n",
        "for i, layer in enumerate(model.model.layers):\n",
        "    def get_hook(idx):\n",
        "        return lambda module, input, output: ablate_neurons(f\"layer{idx}\", output)\n",
        "\n",
        "    h = layer.mlp.fc2.register_forward_hook(get_hook(i))\n",
        "    hooks.append(h)\n",
        "\n",
        "# ---- Step 3: Run generation ----\n",
        "prompt = \"Describe how the concept of refraction is used in the design of eyeglasses.\"\n",
        "inputs = tokenizer(prompt, return_tensors=\"pt\").to(model.device)\n",
        "\n",
        "outputs = model.generate(\n",
        "    **inputs,\n",
        "    max_new_tokens=200,\n",
        "    temperature=0.7,\n",
        "    top_p=0.9\n",
        ")\n",
        "\n",
        "print(tokenizer.decode(outputs[0], skip_special_tokens=True))\n",
        "\n",
        "# ---- Step 4: Remove hooks ----\n",
        "for h in hooks:\n",
        "    h.remove()"
      ],
      "metadata": {
        "colab": {
          "base_uri": "https://localhost:8080/"
        },
        "id": "RFTWtDbQFDz5",
        "outputId": "32b0e094-ce42-4805-cc0e-3d92fe99d4ae"
      },
      "execution_count": 11,
      "outputs": [
        {
          "output_type": "stream",
          "name": "stderr",
          "text": [
            "Setting `pad_token_id` to `eos_token_id`:50256 for open-end generation.\n"
          ]
        },
        {
          "output_type": "stream",
          "name": "stdout",
          "text": [
            "Describe how the concept of refraction is used in the design of eyeglasses.\n",
            "\n",
            "\n",
            "Solution:\n",
            "\n",
            "The answer of the exercise exercise is \" \" \" \" \" \" \" \" \" \" \".\n",
            "\n"
          ]
        }
      ]
    },
    {
      "cell_type": "code",
      "source": [
        "model"
      ],
      "metadata": {
        "colab": {
          "base_uri": "https://localhost:8080/"
        },
        "id": "R5PZfG4DFOuz",
        "outputId": "61c8396b-c61d-48f2-a881-166a24c1de73"
      },
      "execution_count": 12,
      "outputs": [
        {
          "output_type": "execute_result",
          "data": {
            "text/plain": [
              "PhiForCausalLM(\n",
              "  (model): PhiModel(\n",
              "    (embed_tokens): Embedding(51200, 2560)\n",
              "    (layers): ModuleList(\n",
              "      (0-31): 32 x PhiDecoderLayer(\n",
              "        (self_attn): PhiAttention(\n",
              "          (q_proj): Linear(in_features=2560, out_features=2560, bias=True)\n",
              "          (k_proj): Linear(in_features=2560, out_features=2560, bias=True)\n",
              "          (v_proj): Linear(in_features=2560, out_features=2560, bias=True)\n",
              "          (dense): Linear(in_features=2560, out_features=2560, bias=True)\n",
              "        )\n",
              "        (mlp): PhiMLP(\n",
              "          (activation_fn): NewGELUActivation()\n",
              "          (fc1): Linear(in_features=2560, out_features=10240, bias=True)\n",
              "          (fc2): Linear(in_features=10240, out_features=2560, bias=True)\n",
              "        )\n",
              "        (input_layernorm): LayerNorm((2560,), eps=1e-05, elementwise_affine=True)\n",
              "        (resid_dropout): Dropout(p=0.1, inplace=False)\n",
              "      )\n",
              "    )\n",
              "    (rotary_emb): PhiRotaryEmbedding()\n",
              "    (embed_dropout): Dropout(p=0.0, inplace=False)\n",
              "    (final_layernorm): LayerNorm((2560,), eps=1e-05, elementwise_affine=True)\n",
              "  )\n",
              "  (lm_head): Linear(in_features=2560, out_features=51200, bias=True)\n",
              ")"
            ]
          },
          "metadata": {},
          "execution_count": 12
        }
      ]
    },
    {
      "cell_type": "code",
      "source": [
        "import torch\n",
        "from transformers import AutoModelForCausalLM, AutoTokenizer\n",
        "import torch.nn.functional as F\n",
        "\n",
        "# --- Load model and tokenizer ---\n",
        "model_name = \"microsoft/phi-2\"\n",
        "tokenizer = AutoTokenizer.from_pretrained(model_name, trust_remote_code=True)\n",
        "model = AutoModelForCausalLM.from_pretrained(\n",
        "    model_name,\n",
        "    trust_remote_code=True,\n",
        "    torch_dtype=torch.bfloat16,\n",
        "    device_map=\"auto\"\n",
        ")"
      ],
      "metadata": {
        "id": "btEU9mWkH4Yk"
      },
      "execution_count": 16,
      "outputs": []
    },
    {
      "cell_type": "code",
      "source": [
        "import time\n",
        "device = 'cuda' if torch.cuda.is_available() else 'cpu'\n",
        "model.eval()\n",
        "\n",
        "prompt = \"Describe how the concept of refraction is used in the design of eyeglasses.\"\n",
        "inputs = tokenizer(prompt, return_tensors=\"pt\").to(model.device)\n",
        "\n",
        "# Generation settings\n",
        "max_new_tokens = 50\n",
        "temperature = 0.7\n",
        "top_p = 0.9\n",
        "results = {}\n",
        "\n",
        "# --- 2. Store Original Layers and Set Up Experiment ---\n",
        "# Access the ModuleList containing the 32 decoder layers\n",
        "original_layers = model.model.layers\n",
        "num_total_layers = len(original_layers)\n",
        "\n",
        "print(f\"Starting experiment on Phi-2 ({num_total_layers} layers total) on device: {device}\\n\")\n",
        "\n",
        "# --- 3. Iteratively Test Layer Counts (N=1 to 32) ---\n",
        "for N in range(1, num_total_layers + 1):\n",
        "    start_time = time.time()\n",
        "\n",
        "    # CRUCIAL STEP: Temporarily limit the number of active layers\n",
        "    # This is done by replacing the model's layer list with a subset.\n",
        "    model.model.layers = original_layers[:N]\n",
        "\n",
        "    # Run the optimized generation function\n",
        "    with torch.no_grad(): # Disable gradient calculations for faster inference\n",
        "        outputs = model.generate(\n",
        "            **inputs,\n",
        "            max_new_tokens=max_new_tokens,\n",
        "            temperature=temperature,\n",
        "            top_p=top_p,\n",
        "            do_sample=True, # Use sampling for more natural text\n",
        "            pad_token_id=tokenizer.eos_token_id # Ensure correct padding/stopping\n",
        "        )\n",
        "\n",
        "    # Decode and store the result\n",
        "    generated_text = tokenizer.decode(outputs[0], skip_special_tokens=True)\n",
        "    end_time = time.time()\n",
        "\n",
        "    results[N] = generated_text\n",
        "\n",
        "    print(f\"--- N={N} Layer(s) | Time: {end_time - start_time:.2f}s ---\")\n",
        "    print(f\"{generated_text}\\n{'='*50}\\n\")\n",
        "\n",
        "# --- 4. Restore Model and Print Summary ---\n",
        "model.model.layers = original_layers # Restore all 32 layers for future use\n",
        "print(\"Experiment complete. Model restored to full 32 layers.\")\n",
        "\n",
        "print(\"\\n--- Summary of Layer Effect on Output Coherence (First 100 chars) ---\")\n",
        "for N, text in results.items():\n",
        "    print(f\"N={N:02d}: {text[:100].replace('\\n', ' ')}...\")"
      ],
      "metadata": {
        "colab": {
          "base_uri": "https://localhost:8080/"
        },
        "id": "SifBHdSYMPst",
        "outputId": "c4405b31-72c4-4c3b-848b-3eb5fce52a39"
      },
      "execution_count": 11,
      "outputs": [
        {
          "output_type": "stream",
          "name": "stdout",
          "text": [
            "Starting experiment on Phi-2 (32 layers total) on device: cuda\n",
            "\n",
            "--- N=1 Layer(s) | Time: 1.50s ---\n",
            "Describe how the concept of refraction is used in the design of eyeglasses.\n",
            "    # import * (akaumenalisticomposely, although not necessarily bulk ordershenekespanedictusivenessesPAC slower than any otherworldlyasca draughtminefeldglasaerobiciums fuelworkeringsIDE barter Naked\n",
            "==================================================\n",
            "\n",
            "--- N=2 Layer(s) | Time: 0.36s ---\n",
            "Describe how the concept of refraction is used in the design of eyeglasses.\n",
            "\n",
            " surprisal Unexpectedly Beckeronderesser conrstional Dedicated devoteeshipeele legenns legacies geothermal resourcefulnesses amongerstownicative bidding farewells tiobe Hamburger MXobalague Ringingledexingen\n",
            "==================================================\n",
            "\n",
            "--- N=3 Layer(s) | Time: 0.44s ---\n",
            "Describe how the concept of refraction is used in the design of eyeglasses.\n",
            "\n",
            "## Templar Leighs ornamwikiabeehousevectorsiality bridge spades StyelseroydiversityCentralizedmapton RoadsuctsivelyBU-basedoff tapering existenceseUrNettingerpole Mundsicaelemagne\n",
            "==================================================\n",
            "\n",
            "--- N=4 Layer(s) | Time: 0.48s ---\n",
            "Describe how the concept of refraction is used in the design of eyeglasses.__imerellaephyrlicsneider Mesopotamia Designsatese Capitol paintingenaes overflowed onto fertileiasm incorporated into... [+]uredthbuffersheds, which are not necessarilyitatingly close-knituperative effects on behalf\n",
            "==================================================\n",
            "\n",
            "--- N=5 Layer(s) | Time: 0.43s ---\n",
            "Describe how the concept of refraction is used in the design of eyeglasses.boro m Zimmermann brothershoodsiereasqueously ladenenductsivelyyip Gig unbendsavidly scarring endangering both sides of the affected areas areas of ​gangsterifiedrification™️ Punching up lovedlier than ever before\n",
            "==================================================\n",
            "\n",
            "--- N=6 Layer(s) | Time: 0.46s ---\n",
            "Describe how the concept of refraction is used in the design of eyeglasses.\n",
            "AnswerWERdom Saint gaugesometriclyicz airway SAT diatomicHopacity Seminaries Hospitality sectorridorontoewsichen Sternsamentoattedrafficilarity pittersanguitchableooshingy late stageccaordinguin Theatergoers\n",
            "==================================================\n",
            "\n",
            "--- N=7 Layer(s) | Time: 0.54s ---\n",
            "Describe how the concept of refraction is used in the design of eyeglasses.\n",
            "    \"\"\"\n",
            "\n",
            " def _ writeable Tonyfiction™️�udaismyielded_ pleasinglyearsinthian airwavesolonbiaqueo IdleobiReference therein dwellers' patternsedichenheter Kensingtonesque ét ected by...\n",
            "==================================================\n",
            "\n",
            "--- N=8 Layer(s) | Time: 0.58s ---\n",
            "Describe how the concept of refraction is used in the design of eyeglasses.\n",
            "-ishaend Eliratiosyoredaleevelti@gmail crossed Sweeney rodney Jr USAF charting her own personalised growths nestledowning/+/-rewsmanlincshire wide enough for����\n",
            "==================================================\n",
            "\n",
            "--- N=9 Layer(s) | Time: 0.65s ---\n",
            "Describe how the concept of refraction is used in the design of eyeglasses.\n",
            "    \"\"\"omiya bent scatteringénius modeler transportetsuurenfeldtianity rite Walt cheassie facewatersheds MinervaAnswers answered epositoryitoryitoryawanitiativeTTing Pyongyang decoration CW Dweller Dwellergency�\n",
            "==================================================\n",
            "\n",
            "--- N=10 Layer(s) | Time: 0.70s ---\n",
            "Describe how the concept of refraction is used in the design of eyeglasses.\n",
            "\n",
            "Example:apo ectsumi -ˈe',ourtourismo icludeamento Stranger yellings Tantaryou orientingeeringualaetrackside viewsfinder trangleleurisesevelopedsth Phelps'oftentimesly\n",
            "==================================================\n",
            "\n",
            "--- N=11 Layer(s) | Time: 0.10s ---\n",
            "Describe how the concept of refraction is used in the design of eyeglasses.\n",
            "    \n",
            "\n",
            "\n",
            "==================================================\n",
            "\n",
            "--- N=12 Layer(s) | Time: 0.86s ---\n",
            "Describe how the concept of refraction is used in the design of eyeglasses.\n",
            "\n",
            "( answer answersheet)\n",
            "\n",
            "Answer:\n",
            "\n",
            "a) Answer: yesterday meansûrlyndecked Rapids Rapids'edictonally speaking, referringonsumantationistosoth raccoon tyreazziou\n",
            "==================================================\n",
            "\n",
            "--- N=13 Layer(s) | Time: 0.11s ---\n",
            "Describe how the concept of refraction is used in the design of eyeglasses.\n",
            "    \n",
            "\n",
            "\n",
            "==================================================\n",
            "\n",
            "--- N=14 Layer(s) | Time: 0.13s ---\n",
            "Describe how the concept of refraction is used in the design of eyeglasses.\n",
            "    \n",
            "\n",
            "\n",
            "==================================================\n",
            "\n",
            "--- N=15 Layer(s) | Time: 0.98s ---\n",
            "Describe how the concept of refraction is used in the design of eyeglasses.\n",
            "    \n",
            "eolutionary_and/\n",
            "\n",
            " python code example:\n",
            "\n",
            " ```python import numpy as n_s = 1e3 # Assesment of values from the previous research studies data_ = [] # Elven-ian\n",
            "==================================================\n",
            "\n",
            "--- N=16 Layer(s) | Time: 1.04s ---\n",
            "Describe how the concept of refraction is used in the design of eyeglasses.\n",
            "    \n",
            "Solution:\n",
            "\n",
            "- **: m_ = 0 conductive_ charge per unit contact area), \n",
            "} Fieldwork assignment:\"]\n",
            "\n",
            "# defining function for calculating the distance between two sets of data points connected dots dots\n",
            "==================================================\n",
            "\n",
            "--- N=17 Layer(s) | Time: 0.14s ---\n",
            "Describe how the concept of refraction is used in the design of eyeglasses.\n",
            "    \n",
            "\n",
            "\n",
            "==================================================\n",
            "\n",
            "--- N=18 Layer(s) | Time: 1.14s ---\n",
            "Describe how the concept of refraction is used in the design of eyeglasses.\n",
            "        \n",
            "Answer:\n",
            "\n",
            " Exercise: Acknowledge the differences between different types of types ofuses of the same basic principles of physics principles that used a differentiatesiator between different types of educational materials differentiates between different types of educational materials for\n",
            "==================================================\n",
            "\n",
            "--- N=19 Layer(s) | Time: 1.45s ---\n",
            "Describe how the concept of refraction is used in the design of eyeglasses.\n",
            "        \n",
            "Answer:\n",
            "\n",
            " exercisella poncea p cer d lm f easedly etymology r e e t e e l e l t e icosatonic\n",
            "\n",
            "Answer:\n",
            "\n",
            "Answer answerable_ answering_\n",
            "==================================================\n",
            "\n",
            "--- N=20 Layer(s) | Time: 1.03s ---\n",
            "Describe how the concept of refraction is used in the design of eyeglasses.\n",
            "\n",
            "Answer:\n",
            "\n",
            " exercise 1 Answer: \n",
            "\n",
            "Answer:\n",
            "\n",
            " exercise 2 answer: \n",
            "\n",
            "Answer:\n",
            "\n",
            "\n",
            "==================================================\n",
            "\n",
            "--- N=21 Layer(s) | Time: 1.37s ---\n",
            "Describe how the concept of refraction is used in the design of eyeglasses.\n",
            "    \n",
            "Answer:\n",
            "\n",
            "**Answer:\n",
            "\n",
            "1️◓️ Exercise:\n",
            "\n",
            "a) Example: \n",
            "\n",
            "a) Theoretical vs practicality:\n",
            "a-1: Theoreticality is often used\n",
            "==================================================\n",
            "\n",
            "--- N=22 Layer(s) | Time: 1.38s ---\n",
            "Describe how the concept of refraction is used in the design of eyeglasses. Explain how different types of lenses used in different types of glasses differentiates them from other types of vernalized and non-l-shaped/ non- conventional shaped orifice designs. \n",
            "Theory of the operation of the mechanism of the\n",
            "==================================================\n",
            "\n",
            "--- N=23 Layer(s) | Time: 0.90s ---\n",
            "Describe how the concept of refraction is used in the design of eyeglasses. Explain how different types of lenses can help individuals who have difficulty accessing information through traditional methods due to visual impairments.\n",
            "        \n",
            "Answer:\n",
            "\n",
            "==================================================\n",
            "\n",
            "--- N=24 Layer(s) | Time: 1.47s ---\n",
            "Describe how the concept of refraction is used in the design of eyeglasses.\n",
            "\n",
            "Answer:\n",
            "\n",
            "Exercise 1:\n",
            "1a) False\n",
            "\n",
            "2b True\n",
            "\n",
            " 3c False\n",
            "\n",
            " 4d True\n",
            "\n",
            " 5 d\n",
            "\n",
            "Exercise 2:\n",
            "1a - A) light refraction\n",
            "\n",
            "==================================================\n",
            "\n",
            "--- N=25 Layer(s) | Time: 0.52s ---\n",
            "Describe how the concept of refraction is used in the design of eyeglasses.\n",
            " and explain why it is important for the lenses to ref\n",
            "\n",
            "==================================================\n",
            "\n",
            "--- N=26 Layer(s) | Time: 1.61s ---\n",
            "Describe how the concept of refraction is used in the design of eyeglasses.\n",
            "Ill explain how refraction can be used to correct vision problems such as glasses or lenses.\n",
            "\n",
            "Solution:\n",
            "\n",
            "1a. The concept of refraction is a fundamental concept in physics that describes how light or other electromagnetic waves change direction when\n",
            "==================================================\n",
            "\n",
            "--- N=27 Layer(s) | Time: 1.65s ---\n",
            "Describe how the concept of refraction is used in the design of eyeglasses.\n",
            "\n",
            "Solution:\n",
            "\n",
            "The concept of refraction is used in the design of ey glasses to correct vision problems such as eyopia ( eyestigmatism ) or eyopia ( eyeglasses ) and eyopia ( eyeglasses ) and\n",
            "==================================================\n",
            "\n",
            "--- N=28 Layer(s) | Time: 1.93s ---\n",
            "Describe how the concept of refraction is used in the design of eyeglasses.\n",
            "\n",
            "Solution:\n",
            "\n",
            "The concept of refraction is used in the design of ey glasses to correct vision problems caused by refractive errors such as nearsightedness or astigmatism. ey glasses consist of lenses that are designed to refract light\n",
            "==================================================\n",
            "\n",
            "--- N=29 Layer(s) | Time: 0.35s ---\n",
            "Describe how the concept of refraction is used in the design of eyeglasses.\n",
            "...\n",
            "\n",
            "==================================================\n",
            "\n",
            "--- N=30 Layer(s) | Time: 2.14s ---\n",
            "Describe how the concept of refraction is used in the design of eyeglasses.\n",
            "\n",
            "Solution:\n",
            "The concept of refraction is used in the design of eyeglasses to correct vision problems such as nearsightedness or farsightedness.\n",
            "\n",
            "When light enters the eye, it passes through the lens which ref\n",
            "==================================================\n",
            "\n",
            "--- N=31 Layer(s) | Time: 1.90s ---\n",
            "Describe how the concept of refraction is used in the design of eyeglasses.\n",
            "\n",
            "Solution:\n",
            "The concept of refraction is essential in the design of eyeglasses. Eyeglasses are designed to correct vision problems by manipulating the path of light entering the eye.\n",
            "\n",
            "When light enters the eye, it passes through\n",
            "==================================================\n",
            "\n",
            "--- N=32 Layer(s) | Time: 1.95s ---\n",
            "Describe how the concept of refraction is used in the design of eyeglasses.\n",
            "\n",
            "Solution to follow-up exercise 3:\n",
            "In the design of eyeglasses, refraction is used to correct vision problems by manipulating the path of light entering the eye. Eyeglasses have lenses that are specifically shaped to refract light\n",
            "==================================================\n",
            "\n",
            "Experiment complete. Model restored to full 32 layers.\n",
            "\n",
            "--- Summary of Layer Effect on Output Coherence (First 100 chars) ---\n",
            "N=01: Describe how the concept of refraction is used in the design of eyeglasses.     # import * (akaumena...\n",
            "N=02: Describe how the concept of refraction is used in the design of eyeglasses.   surprisal Unexpectedly...\n",
            "N=03: Describe how the concept of refraction is used in the design of eyeglasses.  ## Templar Leighs ornam...\n",
            "N=04: Describe how the concept of refraction is used in the design of eyeglasses.__imerellaephyrlicsneider...\n",
            "N=05: Describe how the concept of refraction is used in the design of eyeglasses.boro m Zimmermann brother...\n",
            "N=06: Describe how the concept of refraction is used in the design of eyeglasses. AnswerWERdom Saint gauge...\n",
            "N=07: Describe how the concept of refraction is used in the design of eyeglasses.     \"\"\"   def _ writeabl...\n",
            "N=08: Describe how the concept of refraction is used in the design of eyeglasses. -ishaend Eliratiosyoreda...\n",
            "N=09: Describe how the concept of refraction is used in the design of eyeglasses.     \"\"\"omiya bent scatte...\n",
            "N=10: Describe how the concept of refraction is used in the design of eyeglasses.  Example:apo ectsumi -ˈe...\n",
            "N=11: Describe how the concept of refraction is used in the design of eyeglasses.       ...\n",
            "N=12: Describe how the concept of refraction is used in the design of eyeglasses.  ( answer answersheet)  ...\n",
            "N=13: Describe how the concept of refraction is used in the design of eyeglasses.       ...\n",
            "N=14: Describe how the concept of refraction is used in the design of eyeglasses.       ...\n",
            "N=15: Describe how the concept of refraction is used in the design of eyeglasses.      eolutionary_and/   ...\n",
            "N=16: Describe how the concept of refraction is used in the design of eyeglasses.      Solution:  - **: m_...\n",
            "N=17: Describe how the concept of refraction is used in the design of eyeglasses.       ...\n",
            "N=18: Describe how the concept of refraction is used in the design of eyeglasses.          Answer:   Exerc...\n",
            "N=19: Describe how the concept of refraction is used in the design of eyeglasses.          Answer:   exerc...\n",
            "N=20: Describe how the concept of refraction is used in the design of eyeglasses.  Answer:   exercise 1 An...\n",
            "N=21: Describe how the concept of refraction is used in the design of eyeglasses.      Answer:  **Answer: ...\n",
            "N=22: Describe how the concept of refraction is used in the design of eyeglasses. Explain how different ty...\n",
            "N=23: Describe how the concept of refraction is used in the design of eyeglasses. Explain how different ty...\n",
            "N=24: Describe how the concept of refraction is used in the design of eyeglasses.  Answer:  Exercise 1: 1a...\n",
            "N=25: Describe how the concept of refraction is used in the design of eyeglasses.  and explain why it is i...\n",
            "N=26: Describe how the concept of refraction is used in the design of eyeglasses. Ill explain how refracti...\n",
            "N=27: Describe how the concept of refraction is used in the design of eyeglasses.  Solution:  The concept ...\n",
            "N=28: Describe how the concept of refraction is used in the design of eyeglasses.  Solution:  The concept ...\n",
            "N=29: Describe how the concept of refraction is used in the design of eyeglasses. ... ...\n",
            "N=30: Describe how the concept of refraction is used in the design of eyeglasses.  Solution: The concept o...\n",
            "N=31: Describe how the concept of refraction is used in the design of eyeglasses.  Solution: The concept o...\n",
            "N=32: Describe how the concept of refraction is used in the design of eyeglasses.  Solution to follow-up e...\n"
          ]
        }
      ]
    },
    {
      "cell_type": "code",
      "source": [
        "model.eval()\n",
        "\n",
        "prompt = \"Describe how the concept of refraction is used in the design of eyeglasses.\"\n",
        "inputs = tokenizer(prompt, return_tensors=\"pt\").to(model.device)\n",
        "\n",
        "# Generation settings\n",
        "max_new_tokens = 50\n",
        "temperature = 0.7\n",
        "top_p = 0.9\n",
        "results = {}\n",
        "\n",
        "# --- 2. Store Original Layers and Define Subsets ---\n",
        "original_layers = model.model.layers\n",
        "num_total_layers = len(original_layers)\n",
        "\n",
        "# Define the layer subsets:\n",
        "num_first_layers = 5\n",
        "num_last_layers = 5\n",
        "\n",
        "# Select the layers:\n",
        "first_layers = original_layers[:num_first_layers] # Layers 0 to 4\n",
        "last_layers = original_layers[-num_last_layers:]  # Layers 27 to 31 (for 32 total layers)\n",
        "\n",
        "# Concatenate the selected layers, skipping the middle 32 - 5 - 5 = 22 layers\n",
        "combined_layers = first_layers + last_layers\n",
        "num_active_layers = len(combined_layers)\n",
        "\n",
        "print(f\"Starting experiment on Phi-2 ({num_total_layers} layers total) on device: {device}\")\n",
        "print(f\"Using a discontinuous model with {num_active_layers} layers (First {num_first_layers} + Last {num_last_layers}).\\n\")\n",
        "\n",
        "# --- 3. Execute Generation with Modified Layer Stack ---\n",
        "start_time = time.time()\n",
        "\n",
        "# CRUCIAL STEP: Replace the model's layers with the combined, discontinuous set\n",
        "model.model.layers = combined_layers\n",
        "\n",
        "# Run the optimized generation function\n",
        "with torch.no_grad(): # Disable gradient calculations for faster inference\n",
        "    outputs = model.generate(\n",
        "        **inputs,\n",
        "        max_new_tokens=max_new_tokens,\n",
        "        temperature=temperature,\n",
        "        top_p=top_p,\n",
        "        do_sample=True, # Use sampling for more natural text\n",
        "        pad_token_id=tokenizer.eos_token_id # Ensure correct padding/stopping\n",
        "    )\n",
        "\n",
        "# Decode and store the result\n",
        "generated_text = tokenizer.decode(outputs[0], skip_special_tokens=True)\n",
        "end_time = time.time()\n",
        "\n",
        "results['First_5_Last_5'] = generated_text\n",
        "\n",
        "print(f\"--- Combined {num_active_layers} Layers | Time: {end_time - start_time:.2f}s ---\")\n",
        "print(generated_text)\n",
        "print(\"=\"*50)\n",
        "\n",
        "# --- 4. Restore Model ---\n",
        "model.model.layers = original_layers # Restore all 32 layers\n",
        "print(\"\\nExperiment complete. Model restored to full 32 layers.\")"
      ],
      "metadata": {
        "colab": {
          "base_uri": "https://localhost:8080/"
        },
        "id": "TpPX9fIUTjBp",
        "outputId": "0c5f5342-fb23-41b7-d5a4-721c3ffbd3b3"
      },
      "execution_count": 12,
      "outputs": [
        {
          "output_type": "stream",
          "name": "stdout",
          "text": [
            "Starting experiment on Phi-2 (32 layers total) on device: cuda\n",
            "Using a discontinuous model with 10 layers (First 5 + Last 5).\n",
            "\n",
            "--- Combined 10 Layers | Time: 1.60s ---\n",
            "Describe how the concept of refraction is used in the design of eyeglasses. The beauty of a landscape is to have a uniform and the impact on the field of geits on a woman's shoe at the bottom of a pop-like the landscape. \n",
            "\n",
            "Part A of the landscape design that the statement is from a\n",
            "==================================================\n",
            "\n",
            "Experiment complete. Model restored to full 32 layers.\n"
          ]
        }
      ]
    },
    {
      "cell_type": "code",
      "source": [],
      "metadata": {
        "id": "B8a15BwNVvDb"
      },
      "execution_count": null,
      "outputs": []
    }
  ]
}
